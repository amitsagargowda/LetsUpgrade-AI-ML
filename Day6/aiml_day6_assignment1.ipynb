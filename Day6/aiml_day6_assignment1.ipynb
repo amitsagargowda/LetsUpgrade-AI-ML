{
  "nbformat": 4,
  "nbformat_minor": 0,
  "metadata": {
    "colab": {
      "name": "aiml_day6_assignment1.ipynb",
      "provenance": []
    },
    "kernelspec": {
      "name": "python3",
      "display_name": "Python 3"
    }
  },
  "cells": [
    {
      "cell_type": "markdown",
      "metadata": {
        "id": "Z9qaow5lt8jx",
        "colab_type": "text"
      },
      "source": [
        "# **Question 1:**\n",
        "     \n",
        "Assuming that we have some email addresses in the \"username@companyname.com\" format, please write program to print the company name of a given email address. Both user names and company names are composed of letters only.\n",
        "     \n",
        "     Input Format:\n",
        "              The first line of the input contains an email address.\n",
        "     Output Format:\n",
        "              Print the company name in single line.\n",
        "\n",
        "     Example:\n",
        "              Input:\n",
        "                       john@google.com\n",
        "              Output:\n",
        "                       google"
      ]
    },
    {
      "cell_type": "code",
      "metadata": {
        "id": "hqwb1V2Ot3i8",
        "colab_type": "code",
        "colab": {}
      },
      "source": [
        "def emailparse(var):\n",
        "    lst1=var.split(\"@\")\n",
        "    if len(lst1) != 2:\n",
        "        print(\"Not a Valid input\")\n",
        "        return\n",
        "    lst2=lst1[1].split(\".\")\n",
        "    if len(lst2) < 2:\n",
        "        print(\"Not a Valid input\")\n",
        "        return\n",
        "    print(\"Company Name:\",lst2[0])"
      ],
      "execution_count": 1,
      "outputs": []
    },
    {
      "cell_type": "code",
      "metadata": {
        "id": "dt1sy5XgunZN",
        "colab_type": "code",
        "colab": {
          "base_uri": "https://localhost:8080/",
          "height": 35
        },
        "outputId": "08618534-5f5a-4b2a-9016-ca4d3c30ea84"
      },
      "source": [
        "emailparse(\"anand@google.com\")"
      ],
      "execution_count": 2,
      "outputs": [
        {
          "output_type": "stream",
          "text": [
            "Company Name: google\n"
          ],
          "name": "stdout"
        }
      ]
    },
    {
      "cell_type": "code",
      "metadata": {
        "id": "t-i6n04AuqoH",
        "colab_type": "code",
        "colab": {
          "base_uri": "https://localhost:8080/",
          "height": 35
        },
        "outputId": "d5e466ef-1e2a-4378-8359-54cffc58cde8"
      },
      "source": [
        "emailparse(\"anand@google.co.in\")"
      ],
      "execution_count": 3,
      "outputs": [
        {
          "output_type": "stream",
          "text": [
            "Company Name: google\n"
          ],
          "name": "stdout"
        }
      ]
    },
    {
      "cell_type": "code",
      "metadata": {
        "id": "Xct5MgRuzO89",
        "colab_type": "code",
        "colab": {
          "base_uri": "https://localhost:8080/",
          "height": 35
        },
        "outputId": "80b2eca3-723d-4f5f-c14a-bd6820639d8a"
      },
      "source": [
        "emailparse(\"anand\")"
      ],
      "execution_count": 4,
      "outputs": [
        {
          "output_type": "stream",
          "text": [
            "Not a Valid input\n"
          ],
          "name": "stdout"
        }
      ]
    },
    {
      "cell_type": "code",
      "metadata": {
        "id": "UQ5zNnJGzgno",
        "colab_type": "code",
        "colab": {
          "base_uri": "https://localhost:8080/",
          "height": 35
        },
        "outputId": "dfb4afd1-e6b2-41b2-95ab-50c4383d5d89"
      },
      "source": [
        "emailparse(\"anand@test\")"
      ],
      "execution_count": 5,
      "outputs": [
        {
          "output_type": "stream",
          "text": [
            "Not a Valid input\n"
          ],
          "name": "stdout"
        }
      ]
    },
    {
      "cell_type": "code",
      "metadata": {
        "id": "rJF3Ijr1zm2x",
        "colab_type": "code",
        "colab": {}
      },
      "source": [
        ""
      ],
      "execution_count": null,
      "outputs": []
    }
  ]
}