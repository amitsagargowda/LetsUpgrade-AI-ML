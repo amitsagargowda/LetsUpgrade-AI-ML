{
  "nbformat": 4,
  "nbformat_minor": 0,
  "metadata": {
    "colab": {
      "name": "aiml_day6_assignment2.ipynb",
      "provenance": [],
      "collapsed_sections": []
    },
    "kernelspec": {
      "name": "python3",
      "display_name": "Python 3"
    }
  },
  "cells": [
    {
      "cell_type": "markdown",
      "metadata": {
        "id": "Z9qaow5lt8jx",
        "colab_type": "text"
      },
      "source": [
        "# **Question 2:**\n",
        "Write a program that accepts a comma-separated sequence of words as input and prints the words in a comma separated sequence after sorting them alphabetically.\n",
        "\n",
        "    Input Format:\n",
        "        The first line of input contains words separated by the comma.\n",
        "    Output Format:\n",
        "        Print the sorted words separated by the comma.\n",
        "\n",
        "    Example:\n",
        "        Input:\n",
        "            without,hello,bag,world\n",
        "        Output:\n",
        "            bag,hello,without,world"
      ]
    },
    {
      "cell_type": "code",
      "metadata": {
        "id": "hqwb1V2Ot3i8",
        "colab_type": "code",
        "colab": {
          "base_uri": "https://localhost:8080/",
          "height": 52
        },
        "outputId": "ef0c7298-d048-4223-94cd-b415fa48243a"
      },
      "source": [
        "lst=input(\"Enter words in comma seperated form: \").split(\",\")\n",
        "lst.sort()\n",
        "str1=','.join(lst)\n",
        "print(str1)"
      ],
      "execution_count": 1,
      "outputs": [
        {
          "output_type": "stream",
          "text": [
            "Enter words in comma seperated form: without,hello,bag,world\n",
            "bag,hello,without,world\n"
          ],
          "name": "stdout"
        }
      ]
    },
    {
      "cell_type": "code",
      "metadata": {
        "id": "6DAum4HW3x_e",
        "colab_type": "code",
        "colab": {}
      },
      "source": [
        ""
      ],
      "execution_count": null,
      "outputs": []
    }
  ]
}