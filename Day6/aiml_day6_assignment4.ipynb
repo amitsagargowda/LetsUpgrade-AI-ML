{
  "nbformat": 4,
  "nbformat_minor": 0,
  "metadata": {
    "colab": {
      "name": "aiml_day6_assignment4.ipynb",
      "provenance": [],
      "collapsed_sections": []
    },
    "kernelspec": {
      "name": "python3",
      "display_name": "Python 3"
    }
  },
  "cells": [
    {
      "cell_type": "markdown",
      "metadata": {
        "id": "Z9qaow5lt8jx",
        "colab_type": "text"
      },
      "source": [
        "# **Question 4:**\n",
        "Given a list of n-1 numbers ranging from 1 to n, your task is to find the missing number. There are no duplicates.\n",
        "\n",
        "    Input Format:\n",
        "        The first line contains n-1 numbers with each number separated by a space.\n",
        "\n",
        "    Output Format:\n",
        "      Print the missing number\n",
        "\n",
        "    Example:\n",
        "        Input:1 2 4 6 3 7 8\n",
        "        Output:5\n",
        "\n",
        "    Explanation:\n",
        "      In the above list of numbers 5 is missing and hence 5 is the input"
      ]
    },
    {
      "cell_type": "code",
      "metadata": {
        "id": "7t-V10M0_X1x",
        "colab_type": "code",
        "colab": {}
      },
      "source": [
        "def findmissing(lst):\n",
        "    lst.sort()\n",
        "    sum1=0\n",
        "    for i in lst:\n",
        "        sum1 +=int(i)\n",
        "\n",
        "    last=int(lst.pop())\n",
        "    sum2=(last*(last+1))//2\n",
        "    \n",
        "    print(\"Missing number:\",sum2-sum1)\n"
      ],
      "execution_count": 1,
      "outputs": []
    },
    {
      "cell_type": "code",
      "metadata": {
        "id": "9-W-oS0-_5hi",
        "colab_type": "code",
        "colab": {
          "base_uri": "https://localhost:8080/",
          "height": 50
        },
        "outputId": "19e31362-cdc8-47da-db89-407277afe22a"
      },
      "source": [
        "lst=input(\"Enter number seperated by spaces\").split(\" \")\n",
        "findmissing(lst)"
      ],
      "execution_count": 2,
      "outputs": [
        {
          "output_type": "stream",
          "text": [
            "Enter number seperated by spaces1 2 4 6 3 7 8\n",
            "Missing number: 5\n"
          ],
          "name": "stdout"
        }
      ]
    },
    {
      "cell_type": "code",
      "metadata": {
        "id": "4J1aGi_qAGDl",
        "colab_type": "code",
        "colab": {}
      },
      "source": [
        ""
      ],
      "execution_count": null,
      "outputs": []
    }
  ]
}