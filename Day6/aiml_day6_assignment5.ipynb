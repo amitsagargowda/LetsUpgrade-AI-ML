{
  "nbformat": 4,
  "nbformat_minor": 0,
  "metadata": {
    "colab": {
      "name": "aiml_day6_assignment5.ipynb",
      "provenance": [],
      "collapsed_sections": []
    },
    "kernelspec": {
      "name": "python3",
      "display_name": "Python 3"
    }
  },
  "cells": [
    {
      "cell_type": "markdown",
      "metadata": {
        "id": "Z9qaow5lt8jx",
        "colab_type": "text"
      },
      "source": [
        "# **Question 5:**\n",
        "With a given list L, write a program to print this list L after removing all duplicate values with original order reserved.\n",
        "\n",
        "    Example:\n",
        "        If the input list is\n",
        "        12 24 35 24 88 120 155 88 120 155\n",
        "        Then the output should be\n",
        "        12 24 35 88 120 155\n",
        "    \n",
        "    Explanation:\n",
        "      Third, seventh and ninth element of the list L has been removed because it was already present.\n",
        "\n",
        "    Input Format:\n",
        "      In one line take the elements of the list L with each element separated by a space.\n",
        "\n",
        "    Output Format:\n",
        "      Print the elements of the modified list in one line with each element separated by a space.\n",
        "\n",
        "    Example:\n",
        "        Input: 12 24 35 24\n",
        "        Output: 12 24 35"
      ]
    },
    {
      "cell_type": "code",
      "metadata": {
        "id": "4J1aGi_qAGDl",
        "colab_type": "code",
        "colab": {}
      },
      "source": [
        "def removeduplicate(lst):\n",
        "    lst1=[]\n",
        "    for i in lst:\n",
        "        add=1\n",
        "        for j in lst1:\n",
        "            if i == j:\n",
        "                add=0\n",
        "                break\n",
        "        if add == 1:\n",
        "            lst1.append(i)\n",
        "    print(' '.join(lst1))\n",
        "         \n"
      ],
      "execution_count": 5,
      "outputs": []
    },
    {
      "cell_type": "code",
      "metadata": {
        "id": "apExCzeDcs5Q",
        "colab_type": "code",
        "colab": {
          "base_uri": "https://localhost:8080/",
          "height": 50
        },
        "outputId": "1385f680-d111-4496-976a-837c53d011c7"
      },
      "source": [
        "lst2=input(\"Enter comma seperated number:\").split(\" \")\n",
        "removeduplicate(lst2)"
      ],
      "execution_count": 6,
      "outputs": [
        {
          "output_type": "stream",
          "text": [
            "Enter comma seperated number:12 24 35 24 88 120 155 88 120 155\n",
            "12 24 35 88 120 155\n"
          ],
          "name": "stdout"
        }
      ]
    },
    {
      "cell_type": "code",
      "metadata": {
        "id": "i4ULI0NidOy8",
        "colab_type": "code",
        "colab": {
          "base_uri": "https://localhost:8080/",
          "height": 50
        },
        "outputId": "75713192-783a-44d6-ecb4-85d1ff14683f"
      },
      "source": [
        "lst2=input(\"Enter comma seperated number:\").split(\" \")\n",
        "removeduplicate(lst2)"
      ],
      "execution_count": 7,
      "outputs": [
        {
          "output_type": "stream",
          "text": [
            "Enter comma seperated number:12 24 35 24\n",
            "12 24 35\n"
          ],
          "name": "stdout"
        }
      ]
    },
    {
      "cell_type": "code",
      "metadata": {
        "id": "NhonW7oZlc_v",
        "colab_type": "code",
        "colab": {}
      },
      "source": [
        ""
      ],
      "execution_count": null,
      "outputs": []
    }
  ]
}