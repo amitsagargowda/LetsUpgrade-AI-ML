{
  "nbformat": 4,
  "nbformat_minor": 0,
  "metadata": {
    "colab": {
      "name": "aiml_day4_assignment5.ipynb",
      "provenance": [],
      "collapsed_sections": []
    },
    "kernelspec": {
      "name": "python3",
      "display_name": "Python 3"
    }
  },
  "cells": [
    {
      "cell_type": "markdown",
      "metadata": {
        "id": "9_XFJoi9Yob3",
        "colab_type": "text"
      },
      "source": [
        "# **Assignment5**\n",
        "##        Consider a list of 10 elements. Print all the elements in the list which are greater than 7 when that number is divided 2. "
      ]
    },
    {
      "cell_type": "code",
      "metadata": {
        "id": "bSQR_cdZjjnK",
        "colab_type": "code",
        "colab": {}
      },
      "source": [
        "def checknum(a):\n",
        "    for i in a:\n",
        "        a1=i/2\n",
        "        if a1 >7 :\n",
        "            print(i,end=\" \")\n"
      ],
      "execution_count": 1,
      "outputs": []
    },
    {
      "cell_type": "code",
      "metadata": {
        "id": "8kQbDKIol_sk",
        "colab_type": "code",
        "colab": {}
      },
      "source": [
        "lsta=[1,2,4,6,9,10,4,12,7,8]\n",
        "checknum(lsta)"
      ],
      "execution_count": 2,
      "outputs": []
    },
    {
      "cell_type": "code",
      "metadata": {
        "id": "t3-ayfHamCL_",
        "colab_type": "code",
        "colab": {
          "base_uri": "https://localhost:8080/",
          "height": 35
        },
        "outputId": "66f3fe18-815c-41d3-e505-0a67b7579879"
      },
      "source": [
        "lsta=[20,21,42,55,57,60,22,23,16,18]\n",
        "checknum(lsta)"
      ],
      "execution_count": 3,
      "outputs": [
        {
          "output_type": "stream",
          "text": [
            "20 21 42 55 57 60 22 23 16 18 "
          ],
          "name": "stdout"
        }
      ]
    },
    {
      "cell_type": "code",
      "metadata": {
        "id": "NLeneaJOmGaT",
        "colab_type": "code",
        "colab": {}
      },
      "source": [
        ""
      ],
      "execution_count": null,
      "outputs": []
    }
  ]
}