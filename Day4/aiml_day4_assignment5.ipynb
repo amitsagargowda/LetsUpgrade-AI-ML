{
  "nbformat": 4,
  "nbformat_minor": 0,
  "metadata": {
    "colab": {
      "name": "aiml_day4_assignment5.ipynb",
      "provenance": [],
      "collapsed_sections": []
    },
    "kernelspec": {
      "name": "python3",
      "display_name": "Python 3"
    }
  },
  "cells": [
    {
      "cell_type": "markdown",
      "metadata": {
        "id": "9_XFJoi9Yob3",
        "colab_type": "text"
      },
      "source": [
        "# **Assignment5**\n",
        "##        Consider a list of 10 elements. Print all the elements in the list which are greater than 7 when that number is divided 2. "
      ]
    },
    {
      "cell_type": "code",
      "metadata": {
        "id": "bSQR_cdZjjnK",
        "colab_type": "code",
        "colab": {}
      },
      "source": [
        "def checknum(a):\n",
        "    for i in a:\n",
        "        if i >7 and i%2 == 0:\n",
        "            print(i)\n"
      ],
      "execution_count": 1,
      "outputs": []
    },
    {
      "cell_type": "code",
      "metadata": {
        "id": "8kQbDKIol_sk",
        "colab_type": "code",
        "colab": {
          "base_uri": "https://localhost:8080/",
          "height": 70
        },
        "outputId": "e94d1598-e1a8-4681-e193-9e639824efb1"
      },
      "source": [
        "lsta=[1,2,4,6,9,10,4,12,7,8]\n",
        "checknum(lsta)"
      ],
      "execution_count": 3,
      "outputs": [
        {
          "output_type": "stream",
          "text": [
            "10\n",
            "12\n",
            "8\n"
          ],
          "name": "stdout"
        }
      ]
    },
    {
      "cell_type": "code",
      "metadata": {
        "id": "t3-ayfHamCL_",
        "colab_type": "code",
        "colab": {
          "base_uri": "https://localhost:8080/",
          "height": 124
        },
        "outputId": "457fcd9b-64aa-4537-bd9a-d7b9171bc6ca"
      },
      "source": [
        "lsta=[20,21,42,55,57,60,22,23,16,18]\n",
        "checknum(lsta)"
      ],
      "execution_count": 4,
      "outputs": [
        {
          "output_type": "stream",
          "text": [
            "20\n",
            "42\n",
            "60\n",
            "22\n",
            "16\n",
            "18\n"
          ],
          "name": "stdout"
        }
      ]
    },
    {
      "cell_type": "code",
      "metadata": {
        "id": "NLeneaJOmGaT",
        "colab_type": "code",
        "colab": {}
      },
      "source": [
        ""
      ],
      "execution_count": null,
      "outputs": []
    }
  ]
}