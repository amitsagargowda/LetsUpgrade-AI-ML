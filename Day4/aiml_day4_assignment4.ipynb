{
  "nbformat": 4,
  "nbformat_minor": 0,
  "metadata": {
    "colab": {
      "name": "aiml_day4_assignment4.ipynb",
      "provenance": [],
      "collapsed_sections": []
    },
    "kernelspec": {
      "name": "python3",
      "display_name": "Python 3"
    }
  },
  "cells": [
    {
      "cell_type": "markdown",
      "metadata": {
        "id": "9_XFJoi9Yob3",
        "colab_type": "text"
      },
      "source": [
        "# **Assignment4**\n",
        "##       Consider a list of 10 elements of integer values. If the number in the list is divisible by 2, print the result as \"square of that number minus 2\"."
      ]
    },
    {
      "cell_type": "code",
      "metadata": {
        "id": "bSQR_cdZjjnK",
        "colab_type": "code",
        "colab": {}
      },
      "source": [
        "def checkdiv2(a):\n",
        "    for i in a:\n",
        "        if i%2 == 0:\n",
        "            print(i,\"---->\",i**2-2)\n"
      ],
      "execution_count": 1,
      "outputs": []
    },
    {
      "cell_type": "code",
      "metadata": {
        "id": "8kQbDKIol_sk",
        "colab_type": "code",
        "colab": {
          "base_uri": "https://localhost:8080/",
          "height": 141
        },
        "outputId": "2a5b55a0-966e-4bf7-e7e1-b2e7ccfd021f"
      },
      "source": [
        "lsta=[1,2,4,6,9,10,4,12,7,8]\n",
        "checkdiv2(lsta)"
      ],
      "execution_count": 2,
      "outputs": [
        {
          "output_type": "stream",
          "text": [
            "2 ----> 2\n",
            "4 ----> 14\n",
            "6 ----> 34\n",
            "10 ----> 98\n",
            "4 ----> 14\n",
            "12 ----> 142\n",
            "8 ----> 62\n"
          ],
          "name": "stdout"
        }
      ]
    },
    {
      "cell_type": "code",
      "metadata": {
        "id": "t3-ayfHamCL_",
        "colab_type": "code",
        "colab": {
          "base_uri": "https://localhost:8080/",
          "height": 124
        },
        "outputId": "91f7a4c8-8fc3-4498-ca1c-6e47521884dd"
      },
      "source": [
        "lsta=[20,21,42,55,57,60,22,23,16,18]\n",
        "checkdiv2(lsta)"
      ],
      "execution_count": 3,
      "outputs": [
        {
          "output_type": "stream",
          "text": [
            "20 ----> 398\n",
            "42 ----> 1762\n",
            "60 ----> 3598\n",
            "22 ----> 482\n",
            "16 ----> 254\n",
            "18 ----> 322\n"
          ],
          "name": "stdout"
        }
      ]
    },
    {
      "cell_type": "code",
      "metadata": {
        "id": "NLeneaJOmGaT",
        "colab_type": "code",
        "colab": {}
      },
      "source": [
        ""
      ],
      "execution_count": null,
      "outputs": []
    }
  ]
}