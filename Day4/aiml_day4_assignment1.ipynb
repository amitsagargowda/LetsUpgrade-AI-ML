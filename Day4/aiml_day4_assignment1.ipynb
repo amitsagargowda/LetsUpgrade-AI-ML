{
  "nbformat": 4,
  "nbformat_minor": 0,
  "metadata": {
    "colab": {
      "name": "aiml_day4_assignment1.ipynb",
      "provenance": [],
      "collapsed_sections": []
    },
    "kernelspec": {
      "name": "python3",
      "display_name": "Python 3"
    }
  },
  "cells": [
    {
      "cell_type": "markdown",
      "metadata": {
        "id": "9_XFJoi9Yob3",
        "colab_type": "text"
      },
      "source": [
        "## Research on whether addition, subtraction, multiplication, division, floor  division and modulo operations be performed on complex numbers. Based on your study, implement a Python program to demonstrate these operations."
      ]
    },
    {
      "cell_type": "code",
      "metadata": {
        "id": "q4LUEJmsYn3K",
        "colab_type": "code",
        "colab": {
          "base_uri": "https://localhost:8080/",
          "height": 35
        },
        "outputId": "17fea905-4aa9-4483-efca-a1d0e45472b5"
      },
      "source": [
        "#Addition Operation on Complex Numbers\n",
        "\n",
        "#Explaination \n",
        "#if x+yi and t+pi are added then result is (x+t)+(y+p)i \n",
        "#please see example below which explains this\n",
        "a=2+3j\n",
        "b=4+3j\n",
        "c=a+b\n",
        "print(c)"
      ],
      "execution_count": 1,
      "outputs": [
        {
          "output_type": "stream",
          "text": [
            "(6+6j)\n"
          ],
          "name": "stdout"
        }
      ]
    },
    {
      "cell_type": "code",
      "metadata": {
        "id": "FiYejo94bFS7",
        "colab_type": "code",
        "colab": {
          "base_uri": "https://localhost:8080/",
          "height": 35
        },
        "outputId": "5add187d-03c6-4a9d-fa5e-ba467e3edcdd"
      },
      "source": [
        "#Subtraction Operation on Complex Numbers\n",
        "\n",
        "#Explaination\n",
        "#if x+yi and t+pi are subtracted then result is of from (x-t)+(y-p)i\n",
        "#please see example below which explains this\n",
        "a=2+3j\n",
        "b=1+2j\n",
        "c=a-b\n",
        "print(c)"
      ],
      "execution_count": 2,
      "outputs": [
        {
          "output_type": "stream",
          "text": [
            "(1+1j)\n"
          ],
          "name": "stdout"
        }
      ]
    },
    {
      "cell_type": "code",
      "metadata": {
        "id": "zhC36KQPZQFG",
        "colab_type": "code",
        "colab": {
          "base_uri": "https://localhost:8080/",
          "height": 35
        },
        "outputId": "4f822848-4224-41d4-8c9f-7fa24b2a668e"
      },
      "source": [
        "#Multiplication operation on Complex Numbers\n",
        "\n",
        "#Explaination\n",
        "#if x+yi and t+pi are multiplicated then result is of from (x*t-y*p)+(y*t+x*p)i\n",
        "#please see example below which explains this\n",
        "a=2+3j\n",
        "b=3+4j\n",
        "c=a*b\n",
        "print(c)"
      ],
      "execution_count": 3,
      "outputs": [
        {
          "output_type": "stream",
          "text": [
            "(-6+17j)\n"
          ],
          "name": "stdout"
        }
      ]
    },
    {
      "cell_type": "code",
      "metadata": {
        "id": "job0JhhXZUIZ",
        "colab_type": "code",
        "colab": {
          "base_uri": "https://localhost:8080/",
          "height": 35
        },
        "outputId": "c5b069f9-680d-4345-95ab-6da4eaa52655"
      },
      "source": [
        "#Multiplication operation on Complex Numbers\n",
        "\n",
        "#Explaination\n",
        "#if x+yi and t+pi are Divided then result is of from ((x*t+y*p)+(y*t-x*p)i)/(t*t+p*p)\n",
        "#please see example below which explains this\n",
        "a=2+3j\n",
        "b=3+4j\n",
        "c=a/b\n",
        "print(c)"
      ],
      "execution_count": 4,
      "outputs": [
        {
          "output_type": "stream",
          "text": [
            "(0.72+0.04j)\n"
          ],
          "name": "stdout"
        }
      ]
    },
    {
      "cell_type": "code",
      "metadata": {
        "id": "ZvYv_5kpdBRg",
        "colab_type": "code",
        "colab": {
          "base_uri": "https://localhost:8080/",
          "height": 221
        },
        "outputId": "ead8978b-905b-4f29-df04-be096e749cb7"
      },
      "source": [
        "#Modulus operation on Complex Numbers\n",
        "\n",
        "#Modulus operation on Complex Numbers is not supported\n",
        "a=2+3j\n",
        "b=3+4j\n",
        "c=a%b\n",
        "print(c)"
      ],
      "execution_count": 5,
      "outputs": [
        {
          "output_type": "error",
          "ename": "TypeError",
          "evalue": "ignored",
          "traceback": [
            "\u001b[0;31m---------------------------------------------------------------------------\u001b[0m",
            "\u001b[0;31mTypeError\u001b[0m                                 Traceback (most recent call last)",
            "\u001b[0;32m<ipython-input-5-08f56906f1d3>\u001b[0m in \u001b[0;36m<module>\u001b[0;34m()\u001b[0m\n\u001b[1;32m      4\u001b[0m \u001b[0ma\u001b[0m\u001b[0;34m=\u001b[0m\u001b[0;36m2\u001b[0m\u001b[0;34m+\u001b[0m\u001b[0;36m3j\u001b[0m\u001b[0;34m\u001b[0m\u001b[0;34m\u001b[0m\u001b[0m\n\u001b[1;32m      5\u001b[0m \u001b[0mb\u001b[0m\u001b[0;34m=\u001b[0m\u001b[0;36m3\u001b[0m\u001b[0;34m+\u001b[0m\u001b[0;36m4j\u001b[0m\u001b[0;34m\u001b[0m\u001b[0;34m\u001b[0m\u001b[0m\n\u001b[0;32m----> 6\u001b[0;31m \u001b[0mc\u001b[0m\u001b[0;34m=\u001b[0m\u001b[0ma\u001b[0m\u001b[0;34m%\u001b[0m\u001b[0mb\u001b[0m\u001b[0;34m\u001b[0m\u001b[0;34m\u001b[0m\u001b[0m\n\u001b[0m\u001b[1;32m      7\u001b[0m \u001b[0mprint\u001b[0m\u001b[0;34m(\u001b[0m\u001b[0mc\u001b[0m\u001b[0;34m)\u001b[0m\u001b[0;34m\u001b[0m\u001b[0;34m\u001b[0m\u001b[0m\n",
            "\u001b[0;31mTypeError\u001b[0m: can't mod complex numbers."
          ]
        }
      ]
    },
    {
      "cell_type": "code",
      "metadata": {
        "id": "tuo5cQ5jdEFr",
        "colab_type": "code",
        "colab": {
          "base_uri": "https://localhost:8080/",
          "height": 221
        },
        "outputId": "91132eda-f230-4c5a-dd46-2b750e372d9a"
      },
      "source": [
        "#Floor Division operation on Complex Numbers\n",
        "\n",
        "#Floor Division is not supported on complex numbers\n",
        "a=2+3j\n",
        "b=3+4j\n",
        "c=a//b\n",
        "print(c)"
      ],
      "execution_count": 6,
      "outputs": [
        {
          "output_type": "error",
          "ename": "TypeError",
          "evalue": "ignored",
          "traceback": [
            "\u001b[0;31m---------------------------------------------------------------------------\u001b[0m",
            "\u001b[0;31mTypeError\u001b[0m                                 Traceback (most recent call last)",
            "\u001b[0;32m<ipython-input-6-78fbf9a3bb7b>\u001b[0m in \u001b[0;36m<module>\u001b[0;34m()\u001b[0m\n\u001b[1;32m      4\u001b[0m \u001b[0ma\u001b[0m\u001b[0;34m=\u001b[0m\u001b[0;36m2\u001b[0m\u001b[0;34m+\u001b[0m\u001b[0;36m3j\u001b[0m\u001b[0;34m\u001b[0m\u001b[0;34m\u001b[0m\u001b[0m\n\u001b[1;32m      5\u001b[0m \u001b[0mb\u001b[0m\u001b[0;34m=\u001b[0m\u001b[0;36m3\u001b[0m\u001b[0;34m+\u001b[0m\u001b[0;36m4j\u001b[0m\u001b[0;34m\u001b[0m\u001b[0;34m\u001b[0m\u001b[0m\n\u001b[0;32m----> 6\u001b[0;31m \u001b[0mc\u001b[0m\u001b[0;34m=\u001b[0m\u001b[0ma\u001b[0m\u001b[0;34m//\u001b[0m\u001b[0mb\u001b[0m\u001b[0;34m\u001b[0m\u001b[0;34m\u001b[0m\u001b[0m\n\u001b[0m\u001b[1;32m      7\u001b[0m \u001b[0mprint\u001b[0m\u001b[0;34m(\u001b[0m\u001b[0mc\u001b[0m\u001b[0;34m)\u001b[0m\u001b[0;34m\u001b[0m\u001b[0;34m\u001b[0m\u001b[0m\n",
            "\u001b[0;31mTypeError\u001b[0m: can't take floor of complex number."
          ]
        }
      ]
    },
    {
      "cell_type": "code",
      "metadata": {
        "id": "a8jagXJtdXcP",
        "colab_type": "code",
        "colab": {}
      },
      "source": [
        ""
      ],
      "execution_count": null,
      "outputs": []
    }
  ]
}