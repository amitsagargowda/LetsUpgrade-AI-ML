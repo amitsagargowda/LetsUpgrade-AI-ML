{
  "nbformat": 4,
  "nbformat_minor": 0,
  "metadata": {
    "colab": {
      "name": "aiml_day4_assignment1.ipynb",
      "provenance": [],
      "collapsed_sections": []
    },
    "kernelspec": {
      "name": "python3",
      "display_name": "Python 3"
    }
  },
  "cells": [
    {
      "cell_type": "markdown",
      "metadata": {
        "id": "9_XFJoi9Yob3",
        "colab_type": "text"
      },
      "source": [
        "## Research on whether addition, subtraction, multiplication, division, floor  division and modulo operations be performed on complex numbers. Based on your study, implement a Python program to demonstrate these operations."
      ]
    },
    {
      "cell_type": "code",
      "metadata": {
        "id": "q4LUEJmsYn3K",
        "colab_type": "code",
        "colab": {
          "base_uri": "https://localhost:8080/",
          "height": 35
        },
        "outputId": "3d065337-0acf-4288-fc9e-ea994c9e8118"
      },
      "source": [
        "#Addition Operation on Complex Numbers\n",
        "\n",
        "#Explaination \n",
        "#if x+yi and t+pi are added then result is (x+t)+(y+p)i \n",
        "#please see example below which explains this\n",
        "a=2+3j\n",
        "b=4+3j\n",
        "c=a+b\n",
        "print(c)"
      ],
      "execution_count": 1,
      "outputs": [
        {
          "output_type": "stream",
          "text": [
            "(6+6j)\n"
          ],
          "name": "stdout"
        }
      ]
    },
    {
      "cell_type": "code",
      "metadata": {
        "id": "FiYejo94bFS7",
        "colab_type": "code",
        "colab": {
          "base_uri": "https://localhost:8080/",
          "height": 35
        },
        "outputId": "a2cd929e-15fd-4d53-f4a1-ae54bc2841be"
      },
      "source": [
        "#Subtraction Operation on Complex Numbers\n",
        "\n",
        "#Explaination\n",
        "#if x+yi and t+pi are subtracted then result is of from (x-t)+(y-p)i\n",
        "#please see example below which explains this\n",
        "a=2+3j\n",
        "b=1+2j\n",
        "c=a-b\n",
        "print(c)"
      ],
      "execution_count": 2,
      "outputs": [
        {
          "output_type": "stream",
          "text": [
            "(1+1j)\n"
          ],
          "name": "stdout"
        }
      ]
    },
    {
      "cell_type": "code",
      "metadata": {
        "id": "zhC36KQPZQFG",
        "colab_type": "code",
        "colab": {
          "base_uri": "https://localhost:8080/",
          "height": 35
        },
        "outputId": "79474f52-8cc9-4d1b-f4c5-a74eb1464db6"
      },
      "source": [
        "#Multiplication operation on Complex Numbers\n",
        "\n",
        "#Explaination\n",
        "#if x+yi and t+pi are multiplicated then result is of from (x*t-y*p)+(y*t+x*p)i\n",
        "#please see example below which explains this\n",
        "a=2+3j\n",
        "b=3+4j\n",
        "c=a*b\n",
        "print(c)"
      ],
      "execution_count": 3,
      "outputs": [
        {
          "output_type": "stream",
          "text": [
            "(-6+17j)\n"
          ],
          "name": "stdout"
        }
      ]
    },
    {
      "cell_type": "code",
      "metadata": {
        "id": "job0JhhXZUIZ",
        "colab_type": "code",
        "colab": {
          "base_uri": "https://localhost:8080/",
          "height": 35
        },
        "outputId": "afaa09e7-8f4f-4cd2-c2df-99863af9eacc"
      },
      "source": [
        "#Multiplication operation on Complex Numbers\n",
        "\n",
        "#Explaination\n",
        "#if x+yi and t+pi are Divided then result is of from ((x*t+y*p)+(y*t-x*p)i)/(t*t+p*p)\n",
        "#please see example below which explains this\n",
        "a=2+3j\n",
        "b=3+4j\n",
        "c=a/b\n",
        "print(c)"
      ],
      "execution_count": 4,
      "outputs": [
        {
          "output_type": "stream",
          "text": [
            "(0.72+0.04j)\n"
          ],
          "name": "stdout"
        }
      ]
    },
    {
      "cell_type": "code",
      "metadata": {
        "id": "ZvYv_5kpdBRg",
        "colab_type": "code",
        "colab": {}
      },
      "source": [
        ""
      ],
      "execution_count": null,
      "outputs": []
    }
  ]
}