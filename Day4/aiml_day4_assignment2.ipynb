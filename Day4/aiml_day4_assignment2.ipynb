{
  "nbformat": 4,
  "nbformat_minor": 0,
  "metadata": {
    "colab": {
      "name": "aiml_day4_assignment2.ipynb",
      "provenance": [],
      "collapsed_sections": []
    },
    "kernelspec": {
      "name": "python3",
      "display_name": "Python 3"
    }
  },
  "cells": [
    {
      "cell_type": "markdown",
      "metadata": {
        "id": "9_XFJoi9Yob3",
        "colab_type": "text"
      },
      "source": [
        "# **Assignment2**\n",
        "##      Research on range() functions and its parameters. Create a markdown cell and write in your own words (no copy-paste from google please) what you understand about it. Implement a small program of your choice on the same."
      ]
    },
    {
      "cell_type": "markdown",
      "metadata": {
        "id": "hum2oDBkgFXb",
        "colab_type": "text"
      },
      "source": [
        "Range function is used to print a range of numbers the limit or end of range is present as parameter of range.\n",
        "\n",
        "The Range function can take three forms\n",
        "\n",
        "\n",
        "1.   Range with 1 parameter\n",
        "          Here 1 parameter present indicates the end limit. \n",
        "          So the number starts from 0 till end limit -1\n",
        "          For example: range(4) generates number from 0 to 3\n",
        "\n",
        "2.   Range with 2 parameter\n",
        "          Here 2 parameter present indicates start and end limit. \n",
        "          So the number starts from start limit till end limit -1\n",
        "          For example: range(1,4) generates number from 1 to 3\n",
        "\n",
        "3.   Range with 3 parameter\n",
        "          Here 3 parameter present indicates start limit, end limit and increment value \n",
        "          So the number starts from 0 till end limit -1 increment by value\n",
        "          For example: range(1,10,2) generates number from 0 to 9 with difference 2"
      ]
    },
    {
      "cell_type": "code",
      "metadata": {
        "id": "mRwNzawVf8Ja",
        "colab_type": "code",
        "colab": {
          "base_uri": "https://localhost:8080/",
          "height": 35
        },
        "outputId": "61518856-a7b7-4279-bb3b-8ed29f01e5cd"
      },
      "source": [
        "#1 parameter range\n",
        "lst=list(range(10))\n",
        "print(lst)"
      ],
      "execution_count": 1,
      "outputs": [
        {
          "output_type": "stream",
          "text": [
            "[0, 1, 2, 3, 4, 5, 6, 7, 8, 9]\n"
          ],
          "name": "stdout"
        }
      ]
    },
    {
      "cell_type": "code",
      "metadata": {
        "id": "uCLfU6KoiBwT",
        "colab_type": "code",
        "colab": {
          "base_uri": "https://localhost:8080/",
          "height": 35
        },
        "outputId": "0b32eb3a-2868-4daa-d43f-7d7370705627"
      },
      "source": [
        "#2 parameter range\n",
        "lst=list(range(2,10))\n",
        "print(lst)"
      ],
      "execution_count": 2,
      "outputs": [
        {
          "output_type": "stream",
          "text": [
            "[2, 3, 4, 5, 6, 7, 8, 9]\n"
          ],
          "name": "stdout"
        }
      ]
    },
    {
      "cell_type": "code",
      "metadata": {
        "id": "dkr2-fWjiZTG",
        "colab_type": "code",
        "colab": {
          "base_uri": "https://localhost:8080/",
          "height": 35
        },
        "outputId": "2730ec97-3b40-4ba2-ebc4-8ae6527a58ca"
      },
      "source": [
        "#3 paramter range\n",
        "lst=list(range(1,10,2))\n",
        "print(lst)"
      ],
      "execution_count": 3,
      "outputs": [
        {
          "output_type": "stream",
          "text": [
            "[1, 3, 5, 7, 9]\n"
          ],
          "name": "stdout"
        }
      ]
    },
    {
      "cell_type": "code",
      "metadata": {
        "id": "bSQR_cdZjjnK",
        "colab_type": "code",
        "colab": {
          "base_uri": "https://localhost:8080/",
          "height": 35
        },
        "outputId": "80345aff-a683-4f61-8f37-339140f0941b"
      },
      "source": [
        "#program to calculater square of number from 1-9\n",
        "for i in range(1,10):\n",
        "  print(i**2,end=\" \")"
      ],
      "execution_count": 4,
      "outputs": [
        {
          "output_type": "stream",
          "text": [
            "1 4 9 16 25 36 49 64 81 "
          ],
          "name": "stdout"
        }
      ]
    },
    {
      "cell_type": "code",
      "metadata": {
        "id": "MApzIqANDHRk",
        "colab_type": "code",
        "colab": {}
      },
      "source": [
        ""
      ],
      "execution_count": 4,
      "outputs": []
    }
  ]
}