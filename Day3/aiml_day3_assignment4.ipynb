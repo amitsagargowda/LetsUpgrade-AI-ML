{
  "nbformat": 4,
  "nbformat_minor": 0,
  "metadata": {
    "colab": {
      "name": "aiml_day3_assignment4.ipynb",
      "provenance": [],
      "collapsed_sections": []
    },
    "kernelspec": {
      "name": "python3",
      "display_name": "Python 3"
    }
  },
  "cells": [
    {
      "cell_type": "markdown",
      "metadata": {
        "id": "F-tVoUiI4Qir",
        "colab_type": "text"
      },
      "source": [
        "# **Assignment 4**\n",
        "##  Python program to swap two numbers without using a temporary variable."
      ]
    },
    {
      "cell_type": "code",
      "metadata": {
        "id": "c25XGtzR4IWr",
        "colab_type": "code",
        "colab": {
          "base_uri": "https://localhost:8080/",
          "height": 88
        },
        "outputId": "1856d5cd-9253-48e6-c245-1baf8fe7c97c"
      },
      "source": [
        "a=int(input(\"Enter Value of a: \"))\n",
        "\n",
        "b=int(input(\"Enter Value of b: \"))\n",
        "\n",
        "print(\"The Original value of a : \",a,\" b : \",b)\n",
        "\n",
        "a=a+b\n",
        "\n",
        "b=a-b\n",
        "\n",
        "a=a-b\n",
        "\n",
        "print(\"The Swapped value of a : \",a,\" b : \",b)\n"
      ],
      "execution_count": 1,
      "outputs": [
        {
          "output_type": "stream",
          "text": [
            "Enter Value of a: 20\n",
            "Enter Value of b: 10\n",
            "The Original value of a :  20  b :  10\n",
            "The Swapped value of a :  10  b :  20\n"
          ],
          "name": "stdout"
        }
      ]
    },
    {
      "cell_type": "code",
      "metadata": {
        "id": "uZPAWbeY79Hs",
        "colab_type": "code",
        "colab": {}
      },
      "source": [
        ""
      ],
      "execution_count": null,
      "outputs": []
    }
  ]
}