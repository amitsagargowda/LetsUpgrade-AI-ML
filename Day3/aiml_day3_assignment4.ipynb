{
  "nbformat": 4,
  "nbformat_minor": 0,
  "metadata": {
    "colab": {
      "name": "aiml_day3_assignment4.ipynb",
      "provenance": [],
      "collapsed_sections": []
    },
    "kernelspec": {
      "name": "python3",
      "display_name": "Python 3"
    }
  },
  "cells": [
    {
      "cell_type": "markdown",
      "metadata": {
        "id": "F-tVoUiI4Qir",
        "colab_type": "text"
      },
      "source": [
        "#  Python program to swap two numbers without using a temporary variable."
      ]
    },
    {
      "cell_type": "code",
      "metadata": {
        "id": "c25XGtzR4IWr",
        "colab_type": "code",
        "colab": {
          "base_uri": "https://localhost:8080/",
          "height": 52
        },
        "outputId": "adff2f99-3ed1-4fc1-ce4b-54fa543e0b59"
      },
      "source": [
        "a=4\n",
        "\n",
        "b=5\n",
        "\n",
        "print(\"The Original value of a : \",a,\" b : \",b)\n",
        "\n",
        "a=a+b\n",
        "\n",
        "b=a-b\n",
        "\n",
        "a=a-b\n",
        "\n",
        "print(\"The Swapped value of a : \",a,\" b : \",b)\n"
      ],
      "execution_count": 5,
      "outputs": [
        {
          "output_type": "stream",
          "text": [
            "The Original value of a :  4  b :  5\n",
            "The Swapped value of a :  5  b :  4\n"
          ],
          "name": "stdout"
        }
      ]
    },
    {
      "cell_type": "code",
      "metadata": {
        "id": "uZPAWbeY79Hs",
        "colab_type": "code",
        "colab": {}
      },
      "source": [
        ""
      ],
      "execution_count": null,
      "outputs": []
    }
  ]
}