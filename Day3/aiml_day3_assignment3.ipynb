{
  "nbformat": 4,
  "nbformat_minor": 0,
  "metadata": {
    "colab": {
      "name": "aiml_day3_assignment3.ipynb",
      "provenance": [],
      "collapsed_sections": []
    },
    "kernelspec": {
      "name": "python3",
      "display_name": "Python 3"
    }
  },
  "cells": [
    {
      "cell_type": "markdown",
      "metadata": {
        "id": "F-tVoUiI4Qir",
        "colab_type": "text"
      },
      "source": [
        "# **Assignment 3**\n",
        "##  Python program to swap two numbers with the help of a temporary variable."
      ]
    },
    {
      "cell_type": "code",
      "metadata": {
        "id": "c25XGtzR4IWr",
        "colab_type": "code",
        "colab": {
          "base_uri": "https://localhost:8080/",
          "height": 88
        },
        "outputId": "97e6a87f-5443-4aec-a0ed-ad821b24d9e0"
      },
      "source": [
        "a=int(input(\"Enter value of a: \"))\n",
        "\n",
        "b=int(input(\"Enter value of b: \"))\n",
        "\n",
        "print(\"The Original value of a : \",a,\" b : \",b)\n",
        "\n",
        "temp=a\n",
        "\n",
        "a=b\n",
        "\n",
        "b=temp\n",
        "\n",
        "print(\"The Swapped value of a : \",a,\" b : \",b)\n"
      ],
      "execution_count": 1,
      "outputs": [
        {
          "output_type": "stream",
          "text": [
            "Enter value of a: 20\n",
            "Enter value of b: 10\n",
            "The Original value of a :  20  b :  10\n",
            "The Swapped value of a :  10  b :  20\n"
          ],
          "name": "stdout"
        }
      ]
    },
    {
      "cell_type": "code",
      "metadata": {
        "id": "uZPAWbeY79Hs",
        "colab_type": "code",
        "colab": {}
      },
      "source": [
        ""
      ],
      "execution_count": null,
      "outputs": []
    }
  ]
}