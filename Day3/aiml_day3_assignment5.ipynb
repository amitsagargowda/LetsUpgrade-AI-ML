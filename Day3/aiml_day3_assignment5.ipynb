{
  "nbformat": 4,
  "nbformat_minor": 0,
  "metadata": {
    "colab": {
      "name": "aiml_day3_assignment5.ipynb",
      "provenance": [],
      "collapsed_sections": []
    },
    "kernelspec": {
      "name": "python3",
      "display_name": "Python 3"
    }
  },
  "cells": [
    {
      "cell_type": "markdown",
      "metadata": {
        "id": "F-tVoUiI4Qir",
        "colab_type": "text"
      },
      "source": [
        "# **Assignment 5**\n",
        "##  Python program to convert fahrenheit to kelvin and celsius both. "
      ]
    },
    {
      "cell_type": "code",
      "metadata": {
        "id": "c25XGtzR4IWr",
        "colab_type": "code",
        "colab": {
          "base_uri": "https://localhost:8080/",
          "height": 70
        },
        "outputId": "45239131-da54-4d73-ee4a-28e632650a2c"
      },
      "source": [
        "fahrenheit=float(input(\"Enter Fahrenheit value: \"))\n",
        "\n",
        "celsius=(fahrenheit-32) * 5/9\n",
        "\n",
        "kelvin=celsius+273.15\n",
        "\n",
        "print(\"Fahrenheit \",fahrenheit,\" : -----> \",celsius ,\" celsius\")\n",
        "\n",
        "print(\"Fahrenheit \",fahrenheit,\" : -----> \",kelvin ,\" kelvin\")\n",
        "\n"
      ],
      "execution_count": 1,
      "outputs": [
        {
          "output_type": "stream",
          "text": [
            "Enter Fahrenheit value: 52\n",
            "Fahrenheit  52.0  : ----->  11.11111111111111  celsius\n",
            "Fahrenheit  52.0  : ----->  284.26111111111106  kelvin\n"
          ],
          "name": "stdout"
        }
      ]
    },
    {
      "cell_type": "code",
      "metadata": {
        "id": "uZPAWbeY79Hs",
        "colab_type": "code",
        "colab": {}
      },
      "source": [
        ""
      ],
      "execution_count": null,
      "outputs": []
    }
  ]
}