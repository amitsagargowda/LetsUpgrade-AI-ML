{
  "nbformat": 4,
  "nbformat_minor": 0,
  "metadata": {
    "colab": {
      "name": "aiml_day3_assignment5.ipynb",
      "provenance": [],
      "collapsed_sections": []
    },
    "kernelspec": {
      "name": "python3",
      "display_name": "Python 3"
    }
  },
  "cells": [
    {
      "cell_type": "markdown",
      "metadata": {
        "id": "F-tVoUiI4Qir",
        "colab_type": "text"
      },
      "source": [
        "#  Python program to convert fahrenheit to kelvin and celsius both. "
      ]
    },
    {
      "cell_type": "code",
      "metadata": {
        "id": "c25XGtzR4IWr",
        "colab_type": "code",
        "colab": {
          "base_uri": "https://localhost:8080/",
          "height": 52
        },
        "outputId": "6a86b7d5-9a53-4fa6-c649-ca67c40515ce"
      },
      "source": [
        "fahrenheit=52.0\n",
        "\n",
        "celsius=(fahrenheit-32) * 5/9\n",
        "\n",
        "kelvin=celsius+273.15\n",
        "\n",
        "print(\"Fahrenheit \",fahrenheit,\" : -----> \",celsius ,\" celsius\")\n",
        "\n",
        "print(\"Fahrenheit \",fahrenheit,\" : -----> \",kelvin ,\" kelvin\")\n",
        "\n"
      ],
      "execution_count": null,
      "outputs": [
        {
          "output_type": "stream",
          "text": [
            "Fahrenheit  52.0  : ----->  11.11111111111111  celsius\n",
            "Fahrenheit  52.0  : ----->  284.26111111111106  kelvin\n"
          ],
          "name": "stdout"
        }
      ]
    },
    {
      "cell_type": "code",
      "metadata": {
        "id": "uZPAWbeY79Hs",
        "colab_type": "code",
        "colab": {}
      },
      "source": [
        ""
      ],
      "execution_count": null,
      "outputs": []
    }
  ]
}