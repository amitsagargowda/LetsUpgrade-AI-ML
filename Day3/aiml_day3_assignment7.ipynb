{
  "nbformat": 4,
  "nbformat_minor": 0,
  "metadata": {
    "colab": {
      "name": "aiml_day3_assignment7.ipynb",
      "provenance": [],
      "collapsed_sections": []
    },
    "kernelspec": {
      "name": "python3",
      "display_name": "Python 3"
    }
  },
  "cells": [
    {
      "cell_type": "markdown",
      "metadata": {
        "id": "F-tVoUiI4Qir",
        "colab_type": "text"
      },
      "source": [
        "#  Create a Markdown cell in jupyter explaining process of creating Github profile and upload Githubs Assignment link."
      ]
    },
    {
      "cell_type": "markdown",
      "metadata": {
        "id": "sabf542bBpBx",
        "colab_type": "text"
      },
      "source": [
        "\n",
        "\n",
        "**1.   Create Account on Github**\n",
        "![](https://drive.google.com/uc?export=view&id=1keGvAaoSeB-ONvcH3WZE4ye3u29NFL-6)\n",
        "\n",
        "\n"
      ]
    },
    {
      "cell_type": "markdown",
      "metadata": {
        "id": "sQ4g1i8mnqyj",
        "colab_type": "text"
      },
      "source": [
        "**2.   Once GitHub profile is created login to your account on github**\n",
        "\n",
        "![](https://drive.google.com/uc?export=view&id=14XgYxFifowGGcqR6vgZuTpA1B7kVcnqJ)\n",
        "\n"
      ]
    },
    {
      "cell_type": "markdown",
      "metadata": {
        "id": "iRBLdYcSo-sf",
        "colab_type": "text"
      },
      "source": [
        "**3.   Create New Repositories by clicking on New Button**\n",
        "\n",
        "![](https://drive.google.com/uc?export=view&id=1CONu4ttXt9ul_dSCMFL-eJszHVg9HJxI)\n",
        "\n",
        "**4.   Create Repositories with name LetsUpgrade AI/ML and make it Public**\n",
        "\n",
        "![](https://drive.google.com/uc?export=view&id=1IbHC6E5DrezELI3c5hQqqJmtoNtmxNQu)\n",
        "\n",
        "\n",
        "\n",
        "---\n",
        "\n"
      ]
    },
    {
      "cell_type": "markdown",
      "metadata": {
        "id": "jIELLSbmr7MG",
        "colab_type": "text"
      },
      "source": [
        "**5.   Select the repository LetsUpgrade-AI-ML and add files using section upload files**\n",
        "\n",
        "![](https://drive.google.com/uc?export=view&id=1VomgKaSvK5Y-vH37kpQT6RM6_Wefb3a9)\n",
        "\n",
        "\n",
        "**6.   Drag and drop required files to be part of repository and commit changes**\n",
        "\n",
        "![](https://drive.google.com/uc?export=view&id=1gKEYgcLp6wEyjSLditDzZb3dKFtSrvXY)\n",
        "\n"
      ]
    },
    {
      "cell_type": "markdown",
      "metadata": {
        "id": "6rJ6nlzOxfw9",
        "colab_type": "text"
      },
      "source": [
        "**7.   Select assignment submission google form and Enter all details like Name, Email ID, Mobile Number and link to github where assignment resides and submit the form**\n",
        "\n",
        "![](https://drive.google.com/uc?export=view&id=1qnzBO5f-fKRWuSwK2qMz1lrSCRFCYKq1)\n",
        "\n",
        "![](https://drive.google.com/uc?export=view&id=1baSdTeZcH_kfnhV8qtipGXxSDVuh2pzt)\n",
        "\n",
        "![](https://drive.google.com/uc?export=view&id=1WWvMb1cJX_046aY3loJEmP8yNNcOg4kR)\n"
      ]
    }
  ]
}