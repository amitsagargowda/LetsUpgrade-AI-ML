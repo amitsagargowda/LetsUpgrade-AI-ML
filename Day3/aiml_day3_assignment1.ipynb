{
  "nbformat": 4,
  "nbformat_minor": 0,
  "metadata": {
    "colab": {
      "name": "aiml-day3-assignment1.ipynb",
      "provenance": []
    },
    "kernelspec": {
      "name": "python3",
      "display_name": "Python 3"
    }
  },
  "cells": [
    {
      "cell_type": "markdown",
      "metadata": {
        "id": "F-tVoUiI4Qir",
        "colab_type": "text"
      },
      "source": [
        "# Python program to subtract two complex numbers."
      ]
    },
    {
      "cell_type": "code",
      "metadata": {
        "id": "c25XGtzR4IWr",
        "colab_type": "code",
        "colab": {
          "base_uri": "https://localhost:8080/",
          "height": 70
        },
        "outputId": "d54aa8a0-ddf7-4bf8-fe1f-10d21d4e10b8"
      },
      "source": [
        "a=complex(input(\"Enter First complex number:\"))\n",
        "b=complex(input(\"Enter Second complex number:\"))\n",
        "c=a-b\n",
        "print(\"The difference of two complex numbers\",c)"
      ],
      "execution_count": 1,
      "outputs": [
        {
          "output_type": "stream",
          "text": [
            "Enter First complex number:2+3j\n",
            "Enter Second complex number:3+5J\n",
            "The difference of two complex numbers (-1-2j)\n"
          ],
          "name": "stdout"
        }
      ]
    },
    {
      "cell_type": "code",
      "metadata": {
        "id": "INe5orJQVo0w",
        "colab_type": "code",
        "colab": {}
      },
      "source": [
        ""
      ],
      "execution_count": null,
      "outputs": []
    }
  ]
}