{
  "nbformat": 4,
  "nbformat_minor": 0,
  "metadata": {
    "colab": {
      "name": "aiml_day3_assignment1.ipynb",
      "provenance": [],
      "collapsed_sections": []
    },
    "kernelspec": {
      "name": "python3",
      "display_name": "Python 3"
    }
  },
  "cells": [
    {
      "cell_type": "markdown",
      "metadata": {
        "id": "F-tVoUiI4Qir",
        "colab_type": "text"
      },
      "source": [
        "# **Assignment 1**\n",
        "## Python program to subtract two complex numbers."
      ]
    },
    {
      "cell_type": "code",
      "metadata": {
        "id": "c25XGtzR4IWr",
        "colab_type": "code",
        "colab": {
          "base_uri": "https://localhost:8080/",
          "height": 70
        },
        "outputId": "d71d8c55-4d8f-4f79-e743-6d976318132b"
      },
      "source": [
        "\n",
        "a=complex(input(\"Enter First Complex Number of Form a+bj :\"))\n",
        "b=complex(input(\"Enter Second Complex Number of Form a=+bj : \"))\n",
        "c=a-b\n",
        "print(\"The difference of two Complex Numbers :\",c)\n"
      ],
      "execution_count": 1,
      "outputs": [
        {
          "output_type": "stream",
          "text": [
            "Enter First Complex Number of Form a+bj :4+8j\n",
            "Enter Second Complex Number of Form a=+bj : 2+5j\n",
            "The difference of two Complex Numbers : (2+3j)\n"
          ],
          "name": "stdout"
        }
      ]
    },
    {
      "cell_type": "code",
      "metadata": {
        "id": "INe5orJQVo0w",
        "colab_type": "code",
        "colab": {}
      },
      "source": [
        ""
      ],
      "execution_count": null,
      "outputs": []
    }
  ]
}