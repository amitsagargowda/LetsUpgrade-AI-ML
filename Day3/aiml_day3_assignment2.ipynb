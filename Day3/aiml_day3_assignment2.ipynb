{
  "nbformat": 4,
  "nbformat_minor": 0,
  "metadata": {
    "colab": {
      "name": "aiml_day3_assignment2.ipynb",
      "provenance": [],
      "collapsed_sections": []
    },
    "kernelspec": {
      "name": "python3",
      "display_name": "Python 3"
    }
  },
  "cells": [
    {
      "cell_type": "markdown",
      "metadata": {
        "id": "F-tVoUiI4Qir",
        "colab_type": "text"
      },
      "source": [
        "# Python program to find the fourth root of a number."
      ]
    },
    {
      "cell_type": "code",
      "metadata": {
        "id": "c25XGtzR4IWr",
        "colab_type": "code",
        "colab": {
          "base_uri": "https://localhost:8080/",
          "height": 35
        },
        "outputId": "93d0eebb-dcd8-4e7d-9977-8d3feb66b70d"
      },
      "source": [
        "a=4\n",
        "\n",
        "b= a**4\n",
        "\n",
        "print(\"Fourth Root of a number\",a,\" : \",b)\n"
      ],
      "execution_count": 2,
      "outputs": [
        {
          "output_type": "stream",
          "text": [
            "Fourth Root of a number 4  :  256\n"
          ],
          "name": "stdout"
        }
      ]
    }
  ]
}