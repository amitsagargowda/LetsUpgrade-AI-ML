{
  "nbformat": 4,
  "nbformat_minor": 0,
  "metadata": {
    "colab": {
      "name": "aiml_day5_assignment3.ipynb",
      "provenance": [],
      "collapsed_sections": []
    },
    "kernelspec": {
      "name": "python3",
      "display_name": "Python 3"
    }
  },
  "cells": [
    {
      "cell_type": "markdown",
      "metadata": {
        "id": "F-tVoUiI4Qir",
        "colab_type": "text"
      },
      "source": [
        "# **Assignment 3**\n",
        "##  Write a Python program to check if the given string is a Palindrome or     Anagram or None of them. Display the message accordingly to the user."
      ]
    },
    {
      "cell_type": "code",
      "metadata": {
        "id": "Y_jWNU12n7K5",
        "colab_type": "code",
        "colab": {
          "base_uri": "https://localhost:8080/",
          "height": 70
        },
        "outputId": "bd091613-23e2-4b58-8130-9cfb1b9d86ef"
      },
      "source": [
        "str1=input(\"Enter String 1: \")\n",
        "\n",
        "if str1 == str1[::-1]:\n",
        "    print(\"String \",str1,\" : is Palindrome \")\n",
        "else:\n",
        "    str2=input(\"Enter String 2: \")\n",
        "    if sorted(str1) == sorted(str2):\n",
        "        print(\"String is Anagram\")\n",
        "    else:\n",
        "        print(\"None of them\")\n"
      ],
      "execution_count": 27,
      "outputs": [
        {
          "output_type": "stream",
          "text": [
            "Enter String 1: qwert\n",
            "Enter String 2: trewq\n",
            "String is Anagram\n"
          ],
          "name": "stdout"
        }
      ]
    },
    {
      "cell_type": "code",
      "metadata": {
        "id": "OkoGx0wzpVG9",
        "colab_type": "code",
        "colab": {}
      },
      "source": [
        ""
      ],
      "execution_count": null,
      "outputs": []
    }
  ]
}