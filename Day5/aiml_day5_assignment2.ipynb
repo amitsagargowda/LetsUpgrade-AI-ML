{
  "nbformat": 4,
  "nbformat_minor": 0,
  "metadata": {
    "colab": {
      "name": "aiml_day5_assignment2.ipynb",
      "provenance": [],
      "collapsed_sections": []
    },
    "kernelspec": {
      "name": "python3",
      "display_name": "Python 3"
    }
  },
  "cells": [
    {
      "cell_type": "markdown",
      "metadata": {
        "id": "F-tVoUiI4Qir",
        "colab_type": "text"
      },
      "source": [
        "# **Assignment 2**\n",
        "##  Write a Python program to implement 15 functions of string. "
      ]
    },
    {
      "cell_type": "code",
      "metadata": {
        "id": "c25XGtzR4IWr",
        "colab_type": "code",
        "colab": {
          "base_uri": "https://localhost:8080/",
          "height": 36
        },
        "outputId": "c7e7eaef-b46d-4a91-a674-57aa214b4190"
      },
      "source": [
        "# Function 1\n",
        "# capitalize(\t)\n",
        "# Return a copy of the string with only its first character capitalized.\n",
        "str1=\"anand\"\n",
        "str1.capitalize()\n"
      ],
      "execution_count": 7,
      "outputs": [
        {
          "output_type": "execute_result",
          "data": {
            "application/vnd.google.colaboratory.intrinsic": {
              "type": "string"
            },
            "text/plain": [
              "'Anand'"
            ]
          },
          "metadata": {
            "tags": []
          },
          "execution_count": 7
        }
      ]
    },
    {
      "cell_type": "code",
      "metadata": {
        "id": "uZPAWbeY79Hs",
        "colab_type": "code",
        "colab": {
          "base_uri": "https://localhost:8080/",
          "height": 36
        },
        "outputId": "6c6259ca-6e82-4804-ba3e-4551081d2a60"
      },
      "source": [
        "# Function 2\n",
        "# center(\twidth[, fillchar])\n",
        "# Return centered in a string of length width. Padding is done using the specified fillchar (default is a space).\n",
        "str1=\"anand\"\n",
        "str1.center(20,\"*\")"
      ],
      "execution_count": 8,
      "outputs": [
        {
          "output_type": "execute_result",
          "data": {
            "application/vnd.google.colaboratory.intrinsic": {
              "type": "string"
            },
            "text/plain": [
              "'*******anand********'"
            ]
          },
          "metadata": {
            "tags": []
          },
          "execution_count": 8
        }
      ]
    },
    {
      "cell_type": "code",
      "metadata": {
        "id": "47vjst-6Yeie",
        "colab_type": "code",
        "colab": {
          "base_uri": "https://localhost:8080/",
          "height": 52
        },
        "outputId": "3ba3d09a-1e88-4543-a191-1e869b5ef4c1"
      },
      "source": [
        "# Function 3\n",
        "# isalnum(\t)\n",
        "# Return true if all characters in the string are alphanumeric and there is at least one character, false otherwise.\n",
        "str1=\"anand\"\n",
        "print(str1.isalnum())\n",
        "str2=\"@anand\"\n",
        "print(str2.isalnum())"
      ],
      "execution_count": 10,
      "outputs": [
        {
          "output_type": "stream",
          "text": [
            "True\n",
            "False\n"
          ],
          "name": "stdout"
        }
      ]
    },
    {
      "cell_type": "code",
      "metadata": {
        "id": "72AItliceOc6",
        "colab_type": "code",
        "colab": {
          "base_uri": "https://localhost:8080/",
          "height": 52
        },
        "outputId": "146ba2eb-ae77-48f3-b21c-045619e6b33a"
      },
      "source": [
        "# Function 4\n",
        "# isalpha(\t)\n",
        "# Return true if all characters in the string are alphabetic and there is at least one character, false otherwise.\n",
        "str1=\"anand\"\n",
        "print(str1.isalpha())\n",
        "str2=\"anand123\"\n",
        "print(str2.isalpha())"
      ],
      "execution_count": 11,
      "outputs": [
        {
          "output_type": "stream",
          "text": [
            "True\n",
            "False\n"
          ],
          "name": "stdout"
        }
      ]
    },
    {
      "cell_type": "code",
      "metadata": {
        "id": "hT5L61ovf1Ne",
        "colab_type": "code",
        "colab": {
          "base_uri": "https://localhost:8080/",
          "height": 70
        },
        "outputId": "fcf78dfd-612a-4661-a69e-f872bb1f8335"
      },
      "source": [
        "# Function 5\n",
        "# isdigit(\t)\n",
        "# Return true if all characters in the string are digits and there is at least one character, false otherwise.\n",
        "str1=\"anand\"\n",
        "print(str1.isdigit())\n",
        "str2=\"anand123\"\n",
        "print(str2.isdigit())\n",
        "str3=\"123\"\n",
        "print(str3.isdigit())\n"
      ],
      "execution_count": 12,
      "outputs": [
        {
          "output_type": "stream",
          "text": [
            "False\n",
            "False\n",
            "True\n"
          ],
          "name": "stdout"
        }
      ]
    },
    {
      "cell_type": "code",
      "metadata": {
        "id": "cHBa4rGXghqg",
        "colab_type": "code",
        "colab": {
          "base_uri": "https://localhost:8080/",
          "height": 70
        },
        "outputId": "4ad3c3c5-1229-4eee-f93f-56e6aed7693b"
      },
      "source": [
        "# Function 6\n",
        "# isnumeric(\t)\n",
        "# Return true if all characters in the string are numeric and there is at least one character, false otherwise.\n",
        "str1=\"anand\"\n",
        "print(str1.isnumeric())\n",
        "str2=\"anand123\"\n",
        "print(str2.isnumeric())\n",
        "str3=\"123\"\n",
        "print(str3.isnumeric())"
      ],
      "execution_count": 13,
      "outputs": [
        {
          "output_type": "stream",
          "text": [
            "False\n",
            "False\n",
            "True\n"
          ],
          "name": "stdout"
        }
      ]
    },
    {
      "cell_type": "code",
      "metadata": {
        "id": "YGwi049Wjn3l",
        "colab_type": "code",
        "colab": {
          "base_uri": "https://localhost:8080/",
          "height": 52
        },
        "outputId": "da730a71-981b-49a5-8627-fff4978dd955"
      },
      "source": [
        "# Function 7\n",
        "# islower(\t)\n",
        "# Return True if all cased characters in the string are lowercase and there is at least one cased character, False otherwise.\n",
        "str1=\"anand\"\n",
        "print(str1.islower())\n",
        "str2=\"Anand\"\n",
        "print(str2.islower())"
      ],
      "execution_count": 14,
      "outputs": [
        {
          "output_type": "stream",
          "text": [
            "True\n",
            "False\n"
          ],
          "name": "stdout"
        }
      ]
    },
    {
      "cell_type": "code",
      "metadata": {
        "id": "D4tWhHqokDUP",
        "colab_type": "code",
        "colab": {
          "base_uri": "https://localhost:8080/",
          "height": 52
        },
        "outputId": "4203de66-ad1f-41dd-f23c-ac3416287ef7"
      },
      "source": [
        "# Function 8\n",
        "# isupper()\n",
        "# Return True if all cased characters 4 in the string are uppercase and there is at least one cased character, False otherwise.\n",
        "str1=\"anand\"\n",
        "print(str1.isupper())\n",
        "str2=\"ANAND\"\n",
        "print(str2.isupper())"
      ],
      "execution_count": 16,
      "outputs": [
        {
          "output_type": "stream",
          "text": [
            "False\n",
            "True\n"
          ],
          "name": "stdout"
        }
      ]
    },
    {
      "cell_type": "code",
      "metadata": {
        "id": "6UoKSD5bkrPs",
        "colab_type": "code",
        "colab": {
          "base_uri": "https://localhost:8080/",
          "height": 36
        },
        "outputId": "d70478b1-fde0-4222-bc6b-f91949746f46"
      },
      "source": [
        "# Function 9\n",
        "# lower()\n",
        "# Return a copy of the string with all the cased characters converted to lowercase.\n",
        "str1=\"Anand\"\n",
        "str1.lower()"
      ],
      "execution_count": 17,
      "outputs": [
        {
          "output_type": "execute_result",
          "data": {
            "application/vnd.google.colaboratory.intrinsic": {
              "type": "string"
            },
            "text/plain": [
              "'anand'"
            ]
          },
          "metadata": {
            "tags": []
          },
          "execution_count": 17
        }
      ]
    },
    {
      "cell_type": "code",
      "metadata": {
        "id": "PLx_MBmul4Dm",
        "colab_type": "code",
        "colab": {
          "base_uri": "https://localhost:8080/",
          "height": 36
        },
        "outputId": "0ab46c30-de08-47d6-e354-d7a3f64c483d"
      },
      "source": [
        "# Function 10\n",
        "# upper()\n",
        "# Return a copy of the string with all the cased characters converted to uppercase.\n",
        "str1=\"Anand\"\n",
        "str1.upper()"
      ],
      "execution_count": 18,
      "outputs": [
        {
          "output_type": "execute_result",
          "data": {
            "application/vnd.google.colaboratory.intrinsic": {
              "type": "string"
            },
            "text/plain": [
              "'ANAND'"
            ]
          },
          "metadata": {
            "tags": []
          },
          "execution_count": 18
        }
      ]
    },
    {
      "cell_type": "code",
      "metadata": {
        "id": "XwML8babmCW4",
        "colab_type": "code",
        "colab": {
          "base_uri": "https://localhost:8080/",
          "height": 36
        },
        "outputId": "f5cd58e6-329b-4b29-9297-0f9050a8a905"
      },
      "source": [
        "# Function 11\n",
        "# capitalize()\n",
        "# Return a copy of the string with first character of the first string capitilized ana all other converted to lower case\n",
        "str1=\"anand IS Here\"\n",
        "str1.capitalize()"
      ],
      "execution_count": 19,
      "outputs": [
        {
          "output_type": "execute_result",
          "data": {
            "application/vnd.google.colaboratory.intrinsic": {
              "type": "string"
            },
            "text/plain": [
              "'Anand is here'"
            ]
          },
          "metadata": {
            "tags": []
          },
          "execution_count": 19
        }
      ]
    },
    {
      "cell_type": "code",
      "metadata": {
        "id": "8BbxZ22MmS8a",
        "colab_type": "code",
        "colab": {
          "base_uri": "https://localhost:8080/",
          "height": 36
        },
        "outputId": "ad61b537-3288-4325-b54c-2daa5844e499"
      },
      "source": [
        "# Function 12\n",
        "# title()\n",
        "# Return a copy of the string with first character of all word to capital and rest to upper case\n",
        "str1=\"anand IS Here\"\n",
        "str1.title()"
      ],
      "execution_count": 20,
      "outputs": [
        {
          "output_type": "execute_result",
          "data": {
            "application/vnd.google.colaboratory.intrinsic": {
              "type": "string"
            },
            "text/plain": [
              "'Anand Is Here'"
            ]
          },
          "metadata": {
            "tags": []
          },
          "execution_count": 20
        }
      ]
    },
    {
      "cell_type": "code",
      "metadata": {
        "id": "33hq8TT4mni3",
        "colab_type": "code",
        "colab": {
          "base_uri": "https://localhost:8080/",
          "height": 36
        },
        "outputId": "94cdb6dc-57e3-493a-ff04-d20ddf577f71"
      },
      "source": [
        "# Function 13\n",
        "# casefold()\n",
        "# Return a copy of the string with converted to lowercase\n",
        "str1=\"anand IS Here\"\n",
        "str1.casefold()"
      ],
      "execution_count": 21,
      "outputs": [
        {
          "output_type": "execute_result",
          "data": {
            "application/vnd.google.colaboratory.intrinsic": {
              "type": "string"
            },
            "text/plain": [
              "'anand is here'"
            ]
          },
          "metadata": {
            "tags": []
          },
          "execution_count": 21
        }
      ]
    },
    {
      "cell_type": "code",
      "metadata": {
        "id": "q0v59LkfnTS3",
        "colab_type": "code",
        "colab": {
          "base_uri": "https://localhost:8080/",
          "height": 36
        },
        "outputId": "31884b89-c7b3-4043-fe7c-e3e2ed18888b"
      },
      "source": [
        "# Function 14\n",
        "# replace()\n",
        "# Return a copy of the string with selected character replaced with new character\n",
        "str1=\"anand IS Here\"\n",
        "str1.replace(\"a\",\"p\")"
      ],
      "execution_count": 22,
      "outputs": [
        {
          "output_type": "execute_result",
          "data": {
            "application/vnd.google.colaboratory.intrinsic": {
              "type": "string"
            },
            "text/plain": [
              "'pnpnd IS Here'"
            ]
          },
          "metadata": {
            "tags": []
          },
          "execution_count": 22
        }
      ]
    },
    {
      "cell_type": "code",
      "metadata": {
        "id": "ngjWbQSrnija",
        "colab_type": "code",
        "colab": {
          "base_uri": "https://localhost:8080/",
          "height": 35
        },
        "outputId": "dba24604-0afe-49e5-a708-0c3155b69817"
      },
      "source": [
        "# Function 15\n",
        "# count()\n",
        "# Returns the number of times a specified value occurs in a string\n",
        "str1=\"anand IS Here\"\n",
        "str1.count(\"a\")"
      ],
      "execution_count": 23,
      "outputs": [
        {
          "output_type": "execute_result",
          "data": {
            "text/plain": [
              "2"
            ]
          },
          "metadata": {
            "tags": []
          },
          "execution_count": 23
        }
      ]
    },
    {
      "cell_type": "code",
      "metadata": {
        "id": "Y_jWNU12n7K5",
        "colab_type": "code",
        "colab": {}
      },
      "source": [
        ""
      ],
      "execution_count": null,
      "outputs": []
    }
  ]
}