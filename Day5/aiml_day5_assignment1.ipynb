{
  "nbformat": 4,
  "nbformat_minor": 0,
  "metadata": {
    "colab": {
      "name": "aiml_day5_assignment1.ipynb",
      "provenance": [],
      "collapsed_sections": []
    },
    "kernelspec": {
      "name": "python3",
      "display_name": "Python 3"
    }
  },
  "cells": [
    {
      "cell_type": "markdown",
      "metadata": {
        "id": "F-tVoUiI4Qir",
        "colab_type": "text"
      },
      "source": [
        "# **Assignment 1**\n",
        "##  Write a Python program to find the first 20 non-even prime natural numbers.  "
      ]
    },
    {
      "cell_type": "code",
      "metadata": {
        "id": "c25XGtzR4IWr",
        "colab_type": "code",
        "colab": {}
      },
      "source": [
        "def checkprime(num):\n",
        "    for i in range(2,(num//2)+1):\n",
        "        if num%i == 0:\n",
        "            return False\n",
        "    return True\n",
        "\n",
        "def gen_noneven_prime(count):\n",
        "    i=0\n",
        "    num=3\n",
        "    while i<count:\n",
        "        if checkprime(num) == True:\n",
        "            print(num,end=\" \")\n",
        "            i=i+1\n",
        "        num=num+1"
      ],
      "execution_count": 4,
      "outputs": []
    },
    {
      "cell_type": "code",
      "metadata": {
        "id": "uZPAWbeY79Hs",
        "colab_type": "code",
        "colab": {
          "base_uri": "https://localhost:8080/",
          "height": 35
        },
        "outputId": "be60c8a6-f0ac-425c-c85a-48a54fb86c64"
      },
      "source": [
        "gen_noneven_prime(20)"
      ],
      "execution_count": 6,
      "outputs": [
        {
          "output_type": "stream",
          "text": [
            "3 5 7 11 13 17 19 23 29 31 37 41 43 47 53 59 61 67 71 73 "
          ],
          "name": "stdout"
        }
      ]
    },
    {
      "cell_type": "code",
      "metadata": {
        "id": "47vjst-6Yeie",
        "colab_type": "code",
        "colab": {}
      },
      "source": [
        ""
      ],
      "execution_count": null,
      "outputs": []
    }
  ]
}