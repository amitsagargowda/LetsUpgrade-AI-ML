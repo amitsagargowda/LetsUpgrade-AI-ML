{
  "nbformat": 4,
  "nbformat_minor": 0,
  "metadata": {
    "kernelspec": {
      "display_name": "Python 3",
      "language": "python",
      "name": "python3"
    },
    "language_info": {
      "codemirror_mode": {
        "name": "ipython",
        "version": 3
      },
      "file_extension": ".py",
      "mimetype": "text/x-python",
      "name": "python",
      "nbconvert_exporter": "python",
      "pygments_lexer": "ipython3",
      "version": "3.7.4"
    },
    "colab": {
      "name": "aiml_day15_assignment1.ipynb",
      "provenance": []
    }
  },
  "cells": [
    {
      "cell_type": "code",
      "metadata": {
        "id": "Svq-UUQHejSt",
        "colab_type": "code",
        "colab": {}
      },
      "source": [
        "import numpy as np\n",
        "from datetime import date, timedelta"
      ],
      "execution_count": 1,
      "outputs": []
    },
    {
      "cell_type": "markdown",
      "metadata": {
        "id": "E3HViHwadiOE",
        "colab_type": "text"
      },
      "source": [
        "# **1. Create a 3x3x3 array with random values**"
      ]
    },
    {
      "cell_type": "code",
      "metadata": {
        "id": "nH4eU_-EdiOG",
        "colab_type": "code",
        "colab": {
          "base_uri": "https://localhost:8080/",
          "height": 202
        },
        "outputId": "59ca707e-4f28-40a6-819c-aa7591815c9a"
      },
      "source": [
        "arr = np.random.rand(3,3,3)\n",
        "arr"
      ],
      "execution_count": 2,
      "outputs": [
        {
          "output_type": "execute_result",
          "data": {
            "text/plain": [
              "array([[[0.01713918, 0.50433053, 0.30437839],\n",
              "        [0.28136272, 0.19818382, 0.70264682],\n",
              "        [0.47734007, 0.52856228, 0.73965223]],\n",
              "\n",
              "       [[0.42776426, 0.49036654, 0.26438971],\n",
              "        [0.20936002, 0.80768449, 0.19488585],\n",
              "        [0.20690345, 0.82188475, 0.12372167]],\n",
              "\n",
              "       [[0.79747717, 0.16418161, 0.73140868],\n",
              "        [0.40146436, 0.76089466, 0.94547671],\n",
              "        [0.69524731, 0.35797041, 0.19064175]]])"
            ]
          },
          "metadata": {
            "tags": []
          },
          "execution_count": 2
        }
      ]
    },
    {
      "cell_type": "markdown",
      "metadata": {
        "id": "6MrCaeZBdiOL",
        "colab_type": "text"
      },
      "source": [
        "# **2.Create a 5x5 matrix with values 1,2,3,4 just below the diagonal**"
      ]
    },
    {
      "cell_type": "code",
      "metadata": {
        "id": "VY76-fXudiOM",
        "colab_type": "code",
        "colab": {
          "base_uri": "https://localhost:8080/",
          "height": 101
        },
        "outputId": "650119d9-ce6a-4d49-cd3a-7bbd84b6bfff"
      },
      "source": [
        "arr = np.diag(np.arange(4)+1 , k = -1)\n",
        "arr"
      ],
      "execution_count": 6,
      "outputs": [
        {
          "output_type": "execute_result",
          "data": {
            "text/plain": [
              "array([[0, 0, 0, 0, 0],\n",
              "       [1, 0, 0, 0, 0],\n",
              "       [0, 2, 0, 0, 0],\n",
              "       [0, 0, 3, 0, 0],\n",
              "       [0, 0, 0, 4, 0]])"
            ]
          },
          "metadata": {
            "tags": []
          },
          "execution_count": 6
        }
      ]
    },
    {
      "cell_type": "markdown",
      "metadata": {
        "id": "5CuVIdZYdiOR",
        "colab_type": "text"
      },
      "source": [
        "# **3.Create a 8x8 matrix and fill it with a checkerboard pattern**"
      ]
    },
    {
      "cell_type": "code",
      "metadata": {
        "id": "Knk8CQIQdiOS",
        "colab_type": "code",
        "colab": {
          "base_uri": "https://localhost:8080/",
          "height": 151
        },
        "outputId": "6ef5e34c-8a43-45b1-bd50-10477035d041"
      },
      "source": [
        "arr = np.tile(np.array([[0,1],[1,0]]), (4,4))\n",
        "arr"
      ],
      "execution_count": 8,
      "outputs": [
        {
          "output_type": "execute_result",
          "data": {
            "text/plain": [
              "array([[0, 1, 0, 1, 0, 1, 0, 1],\n",
              "       [1, 0, 1, 0, 1, 0, 1, 0],\n",
              "       [0, 1, 0, 1, 0, 1, 0, 1],\n",
              "       [1, 0, 1, 0, 1, 0, 1, 0],\n",
              "       [0, 1, 0, 1, 0, 1, 0, 1],\n",
              "       [1, 0, 1, 0, 1, 0, 1, 0],\n",
              "       [0, 1, 0, 1, 0, 1, 0, 1],\n",
              "       [1, 0, 1, 0, 1, 0, 1, 0]])"
            ]
          },
          "metadata": {
            "tags": []
          },
          "execution_count": 8
        }
      ]
    },
    {
      "cell_type": "markdown",
      "metadata": {
        "id": "13tpyrNDdiOV",
        "colab_type": "text"
      },
      "source": [
        "# **4. Normalize a 5x5 random matrix**"
      ]
    },
    {
      "cell_type": "code",
      "metadata": {
        "id": "A1x3UiKFdiOW",
        "colab_type": "code",
        "colab": {
          "base_uri": "https://localhost:8080/",
          "height": 101
        },
        "outputId": "c516cc29-6e9c-4fcc-b734-bf0c7c2ba6e0"
      },
      "source": [
        "arr = np.random.random((5,5))\n",
        "arr = (arr - np.mean (arr)) / (np.std (arr))\n",
        "arr"
      ],
      "execution_count": 9,
      "outputs": [
        {
          "output_type": "execute_result",
          "data": {
            "text/plain": [
              "array([[ 0.0679168 ,  1.19797408,  1.13463639,  1.18906319, -0.36423635],\n",
              "       [-0.76161799, -0.21852251, -1.389117  , -0.45338203,  1.16187701],\n",
              "       [ 0.40456395,  0.05148929,  0.53650559,  0.70824836,  1.39774805],\n",
              "       [-1.16353254, -1.22097514, -1.07130336,  1.30116238,  1.34863703],\n",
              "       [-0.65080439,  0.73689892, -1.18688243, -1.49164157, -1.26470574]])"
            ]
          },
          "metadata": {
            "tags": []
          },
          "execution_count": 9
        }
      ]
    },
    {
      "cell_type": "markdown",
      "metadata": {
        "id": "iiVbpTtydiOZ",
        "colab_type": "text"
      },
      "source": [
        "# **5.  How to find common values between two arrays?**"
      ]
    },
    {
      "cell_type": "code",
      "metadata": {
        "id": "unFuobs_diOa",
        "colab_type": "code",
        "colab": {
          "base_uri": "https://localhost:8080/",
          "height": 34
        },
        "outputId": "b729bef7-1712-43a0-c549-31a615ba6c60"
      },
      "source": [
        "arr1 = np.random.randint(0,10,10)\n",
        "arr2 = np.random.randint(0,10,10)\n",
        "\n",
        "np.intersect1d(arr1, arr2)"
      ],
      "execution_count": 10,
      "outputs": [
        {
          "output_type": "execute_result",
          "data": {
            "text/plain": [
              "array([1, 2, 4, 6])"
            ]
          },
          "metadata": {
            "tags": []
          },
          "execution_count": 10
        }
      ]
    },
    {
      "cell_type": "markdown",
      "metadata": {
        "id": "mC_rb2FqdiOe",
        "colab_type": "text"
      },
      "source": [
        "# **6.How to get the dates of yesterday, today and tomorrow?**"
      ]
    },
    {
      "cell_type": "code",
      "metadata": {
        "id": "7csEjO9WdiOf",
        "colab_type": "code",
        "colab": {
          "base_uri": "https://localhost:8080/",
          "height": 67
        },
        "outputId": "c1b8411e-0f1a-4a8f-f8a4-f28716444a58"
      },
      "source": [
        "yesterday = np.datetime64('today') - np.timedelta64(1)\n",
        "today     = np.datetime64('today')\n",
        "tomorrow  = np.datetime64('today') + np.timedelta64(1)\n",
        "print(\"yesterday Time: \",yesterday)\n",
        "print(\"today Time:     \",today)\n",
        "print(\"tomorrow Time:  \",tomorrow)\n"
      ],
      "execution_count": 12,
      "outputs": [
        {
          "output_type": "stream",
          "text": [
            "yesterday Time:  2020-07-27\n",
            "today Time:      2020-07-28\n",
            "tomorrow Time:   2020-07-29\n"
          ],
          "name": "stdout"
        }
      ]
    },
    {
      "cell_type": "markdown",
      "metadata": {
        "id": "C4WULpGCdiOj",
        "colab_type": "text"
      },
      "source": [
        "# **7. Consider two random array A and B, check if they are equal**"
      ]
    },
    {
      "cell_type": "code",
      "metadata": {
        "id": "VkDoiJeIeCsu",
        "colab_type": "code",
        "colab": {
          "base_uri": "https://localhost:8080/",
          "height": 235
        },
        "outputId": "fc0806b7-5768-4118-c9bc-3ce12e159a0c"
      },
      "source": [
        "arr1 = np.random.rand(3,3)\n",
        "arr2 = np.random.rand(3,3)\n",
        "\n",
        "equal = np.array_equal(arr1,arr2)\n",
        "print(f'Array1:\\n{arr1}\\n\\n')\n",
        "print(f'Array2:\\n{arr2}\\n\\n')\n",
        "print(f'Equality: {equal}')"
      ],
      "execution_count": 13,
      "outputs": [
        {
          "output_type": "stream",
          "text": [
            "Array1:\n",
            "[[0.67151811 0.20680662 0.56900476]\n",
            " [0.20244281 0.5944365  0.23915182]\n",
            " [0.97260112 0.79050812 0.61349367]]\n",
            "\n",
            "\n",
            "Array2:\n",
            "[[0.95560109 0.82331842 0.05556609]\n",
            " [0.51024521 0.08886215 0.57837068]\n",
            " [0.22945404 0.5423198  0.81555241]]\n",
            "\n",
            "\n",
            "Equality: False\n"
          ],
          "name": "stdout"
        }
      ]
    },
    {
      "cell_type": "markdown",
      "metadata": {
        "id": "3okZE2rQdiOo",
        "colab_type": "text"
      },
      "source": [
        "# **8.Create random vector of size 10 and replace the maximum value by 0**"
      ]
    },
    {
      "cell_type": "code",
      "metadata": {
        "id": "qUruaAVrdiOp",
        "colab_type": "code",
        "colab": {
          "base_uri": "https://localhost:8080/",
          "height": 50
        },
        "outputId": "b0a30b67-51e5-4a0e-b1d7-206ebb9f8fcb"
      },
      "source": [
        "arr = np.random.rand(10)\n",
        "arr[arr.argmax()] = 0\n",
        "arr"
      ],
      "execution_count": 14,
      "outputs": [
        {
          "output_type": "execute_result",
          "data": {
            "text/plain": [
              "array([0.67410993, 0.21206245, 0.85267804, 0.        , 0.45845569,\n",
              "       0.6671362 , 0.06935931, 0.598614  , 0.55293981, 0.39923086])"
            ]
          },
          "metadata": {
            "tags": []
          },
          "execution_count": 14
        }
      ]
    },
    {
      "cell_type": "markdown",
      "metadata": {
        "id": "FFBYX2kFdiOs",
        "colab_type": "text"
      },
      "source": [
        "# **9. How to print all the values of an array?**"
      ]
    },
    {
      "cell_type": "code",
      "metadata": {
        "id": "DwUKyL3VdiOt",
        "colab_type": "code",
        "colab": {
          "base_uri": "https://localhost:8080/",
          "height": 185
        },
        "outputId": "fa35d501-5367-48d2-b4a8-0f4114a575cf"
      },
      "source": [
        "arr = np.ones((10, 10))\n",
        "print(arr)"
      ],
      "execution_count": 15,
      "outputs": [
        {
          "output_type": "stream",
          "text": [
            "[[1. 1. 1. 1. 1. 1. 1. 1. 1. 1.]\n",
            " [1. 1. 1. 1. 1. 1. 1. 1. 1. 1.]\n",
            " [1. 1. 1. 1. 1. 1. 1. 1. 1. 1.]\n",
            " [1. 1. 1. 1. 1. 1. 1. 1. 1. 1.]\n",
            " [1. 1. 1. 1. 1. 1. 1. 1. 1. 1.]\n",
            " [1. 1. 1. 1. 1. 1. 1. 1. 1. 1.]\n",
            " [1. 1. 1. 1. 1. 1. 1. 1. 1. 1.]\n",
            " [1. 1. 1. 1. 1. 1. 1. 1. 1. 1.]\n",
            " [1. 1. 1. 1. 1. 1. 1. 1. 1. 1.]\n",
            " [1. 1. 1. 1. 1. 1. 1. 1. 1. 1.]]\n"
          ],
          "name": "stdout"
        }
      ]
    },
    {
      "cell_type": "markdown",
      "metadata": {
        "id": "3yW6nWQEdiOx",
        "colab_type": "text"
      },
      "source": [
        "# **10.Subtract the mean of each row of a matrix**"
      ]
    },
    {
      "cell_type": "code",
      "metadata": {
        "id": "49MiSEOWdiOy",
        "colab_type": "code",
        "colab": {
          "base_uri": "https://localhost:8080/",
          "height": 67
        },
        "outputId": "de1a2a8d-e244-42ec-a849-aff72448c8d7"
      },
      "source": [
        "arr = np.random.rand(3,3)\n",
        "arr_mean = arr - arr.mean(axis=1, keepdims=True)\n",
        "\n",
        "arr_mean"
      ],
      "execution_count": 16,
      "outputs": [
        {
          "output_type": "execute_result",
          "data": {
            "text/plain": [
              "array([[-0.24187721, -0.04365805,  0.28553526],\n",
              "       [ 0.35095875,  0.16317743, -0.51413618],\n",
              "       [ 0.19149167, -0.32722384,  0.13573216]])"
            ]
          },
          "metadata": {
            "tags": []
          },
          "execution_count": 16
        }
      ]
    },
    {
      "cell_type": "markdown",
      "metadata": {
        "id": "f3RjicsQdiO2",
        "colab_type": "text"
      },
      "source": [
        "# **11.Consider a given vector, how to add 1 to each element indexed by a second vector (be careful with repeated indices)?** "
      ]
    },
    {
      "cell_type": "code",
      "metadata": {
        "id": "U0tjy5ETdiO8",
        "colab_type": "code",
        "colab": {
          "base_uri": "https://localhost:8080/",
          "height": 34
        },
        "outputId": "495ac1eb-f7f9-4d64-aad2-29bd15ba5b2e"
      },
      "source": [
        "arr1 = np.ones(5)\n",
        "arr2 = np.random.randint(0, len(arr1), 10)\n",
        "arr1 += np.bincount(arr2, minlength = len(arr1))\n",
        "arr1"
      ],
      "execution_count": 17,
      "outputs": [
        {
          "output_type": "execute_result",
          "data": {
            "text/plain": [
              "array([3., 2., 3., 4., 3.])"
            ]
          },
          "metadata": {
            "tags": []
          },
          "execution_count": 17
        }
      ]
    },
    {
      "cell_type": "markdown",
      "metadata": {
        "id": "xY8zSn9OdiO_",
        "colab_type": "text"
      },
      "source": [
        "# **12.How to get the diagonal of a dot product?**"
      ]
    },
    {
      "cell_type": "code",
      "metadata": {
        "id": "IW9Y6KRVdiO_",
        "colab_type": "code",
        "colab": {
          "base_uri": "https://localhost:8080/",
          "height": 34
        },
        "outputId": "edc928fa-4195-4e73-eb6c-2ab65c25173c"
      },
      "source": [
        "arr1 = np.random.randint(0,10,(3,3))\n",
        "arr2 = np.random.randint(0,10,(3,3))\n",
        "\n",
        "np.einsum(\"ij,ji->i\", arr1, arr2)"
      ],
      "execution_count": 18,
      "outputs": [
        {
          "output_type": "execute_result",
          "data": {
            "text/plain": [
              "array([86, 21, 39])"
            ]
          },
          "metadata": {
            "tags": []
          },
          "execution_count": 18
        }
      ]
    },
    {
      "cell_type": "markdown",
      "metadata": {
        "id": "S53UxY2RdiPE",
        "colab_type": "text"
      },
      "source": [
        "# **13.How to find the most frequent value in an array?**"
      ]
    },
    {
      "cell_type": "code",
      "metadata": {
        "id": "tYqpDEo4diPE",
        "colab_type": "code",
        "colab": {
          "base_uri": "https://localhost:8080/",
          "height": 50
        },
        "outputId": "0b64e08b-29e8-4b83-b043-5e2e220147f3"
      },
      "source": [
        "arr = np.random.randint(0,10,20)\n",
        "print(arr)\n",
        "max(set(arr), key = list(arr).count)"
      ],
      "execution_count": 19,
      "outputs": [
        {
          "output_type": "stream",
          "text": [
            "[7 5 7 4 2 6 7 1 0 6 8 3 8 5 5 4 0 5 9 6]\n"
          ],
          "name": "stdout"
        },
        {
          "output_type": "execute_result",
          "data": {
            "text/plain": [
              "5"
            ]
          },
          "metadata": {
            "tags": []
          },
          "execution_count": 19
        }
      ]
    },
    {
      "cell_type": "markdown",
      "metadata": {
        "id": "9ExKh0F1diPH",
        "colab_type": "text"
      },
      "source": [
        "# **14.How to get the n largest values of an array**"
      ]
    },
    {
      "cell_type": "code",
      "metadata": {
        "id": "MYOQHSQadiPI",
        "colab_type": "code",
        "colab": {
          "base_uri": "https://localhost:8080/",
          "height": 34
        },
        "outputId": "a9938d01-b866-4a6c-9d21-1843b3a62e92"
      },
      "source": [
        "arr = np.random.randint(0,10,50)\n",
        "np.bincount(arr).argmax()"
      ],
      "execution_count": 20,
      "outputs": [
        {
          "output_type": "execute_result",
          "data": {
            "text/plain": [
              "9"
            ]
          },
          "metadata": {
            "tags": []
          },
          "execution_count": 20
        }
      ]
    },
    {
      "cell_type": "markdown",
      "metadata": {
        "id": "EZH0PguPdiPP",
        "colab_type": "text"
      },
      "source": [
        "# **15.How to create a record array from a regular array?**"
      ]
    },
    {
      "cell_type": "code",
      "metadata": {
        "id": "MOxce30EdiPQ",
        "colab_type": "code",
        "colab": {
          "base_uri": "https://localhost:8080/",
          "height": 151
        },
        "outputId": "0d7a04f5-3589-49af-dac1-bc52c5111140"
      },
      "source": [
        "\n",
        "arr = np.array([(\"Science\", 88.5, 90),\n",
        "                 (\"Maths\", 87, 99),\n",
        "             (\"English\", 85.5, 91)])\n",
        "\n",
        "print(arr)\n",
        "print(\"\\nRECORD ARRAY\")\n",
        "record = np.core.records.fromarrays(arr.T,\n",
        "                              names='col1, col2, col3',\n",
        "                              formats = 'S80, f8, i8')\n",
        "record"
      ],
      "execution_count": 21,
      "outputs": [
        {
          "output_type": "stream",
          "text": [
            "[['Science' '88.5' '90']\n",
            " ['Maths' '87' '99']\n",
            " ['English' '85.5' '91']]\n",
            "\n",
            "RECORD ARRAY\n"
          ],
          "name": "stdout"
        },
        {
          "output_type": "execute_result",
          "data": {
            "text/plain": [
              "rec.array([(b'Science', 88.5, 90), (b'Maths', 87. , 99),\n",
              "           (b'English', 85.5, 91)],\n",
              "          dtype=[('col1', 'S80'), ('col2', '<f8'), ('col3', '<i8')])"
            ]
          },
          "metadata": {
            "tags": []
          },
          "execution_count": 21
        }
      ]
    }
  ]
}